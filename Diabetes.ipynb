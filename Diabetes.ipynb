{
  "nbformat": 4,
  "nbformat_minor": 0,
  "metadata": {
    "colab": {
      "name": "Diabetes.ipynb",
      "provenance": []
    },
    "kernelspec": {
      "name": "python3",
      "display_name": "Python 3"
    },
    "language_info": {
      "name": "python"
    }
  },
  "cells": [
    {
      "cell_type": "code",
      "metadata": {
        "id": "WqmlHiHnQzGh"
      },
      "source": [
        "import numpy as np\n",
        "import pandas as pd\n",
        "import matplotlib.pyplot as plt\n",
        "import seaborn as sns\n",
        "import sklearn \n",
        "from sklearn.metrics import confusion_matrix, classification_report, accuracy_score\n",
        "from sklearn.metrics import accuracy_score, f1_score, classification_report, confusion_matrix\n"
      ],
      "execution_count": 51,
      "outputs": []
    },
    {
      "cell_type": "code",
      "metadata": {
        "id": "5RXMqsiWS4t7"
      },
      "source": [
        "data = pd.read_csv(\"/content/diabetes.csv\")"
      ],
      "execution_count": 3,
      "outputs": []
    },
    {
      "cell_type": "markdown",
      "metadata": {
        "id": "jrKxCrMVX11c"
      },
      "source": [
        "This dataset is originally from the National Institute of Diabetes and Digestive and Kidney Diseases. The objective of the dataset is to diagnostically predict whether or not a patient has diabetes, based on certain diagnostic measurements included in the dataset. Several constraints were placed on the selection of these instances from a larger database. In particular, all patients here are females at least 21 years old of Pima Indian heritage.\n"
      ]
    },
    {
      "cell_type": "code",
      "metadata": {
        "colab": {
          "base_uri": "https://localhost:8080/",
          "height": 204
        },
        "id": "SfoX8AaWVFPA",
        "outputId": "31fb82c8-f860-4bed-b668-29ebf2db61df"
      },
      "source": [
        "data.head()"
      ],
      "execution_count": 4,
      "outputs": [
        {
          "output_type": "execute_result",
          "data": {
            "text/html": [
              "<div>\n",
              "<style scoped>\n",
              "    .dataframe tbody tr th:only-of-type {\n",
              "        vertical-align: middle;\n",
              "    }\n",
              "\n",
              "    .dataframe tbody tr th {\n",
              "        vertical-align: top;\n",
              "    }\n",
              "\n",
              "    .dataframe thead th {\n",
              "        text-align: right;\n",
              "    }\n",
              "</style>\n",
              "<table border=\"1\" class=\"dataframe\">\n",
              "  <thead>\n",
              "    <tr style=\"text-align: right;\">\n",
              "      <th></th>\n",
              "      <th>Pregnancies</th>\n",
              "      <th>Glucose</th>\n",
              "      <th>BloodPressure</th>\n",
              "      <th>SkinThickness</th>\n",
              "      <th>Insulin</th>\n",
              "      <th>BMI</th>\n",
              "      <th>DiabetesPedigreeFunction</th>\n",
              "      <th>Age</th>\n",
              "      <th>Outcome</th>\n",
              "    </tr>\n",
              "  </thead>\n",
              "  <tbody>\n",
              "    <tr>\n",
              "      <th>0</th>\n",
              "      <td>6</td>\n",
              "      <td>148</td>\n",
              "      <td>72</td>\n",
              "      <td>35</td>\n",
              "      <td>0</td>\n",
              "      <td>33.6</td>\n",
              "      <td>0.627</td>\n",
              "      <td>50</td>\n",
              "      <td>1</td>\n",
              "    </tr>\n",
              "    <tr>\n",
              "      <th>1</th>\n",
              "      <td>1</td>\n",
              "      <td>85</td>\n",
              "      <td>66</td>\n",
              "      <td>29</td>\n",
              "      <td>0</td>\n",
              "      <td>26.6</td>\n",
              "      <td>0.351</td>\n",
              "      <td>31</td>\n",
              "      <td>0</td>\n",
              "    </tr>\n",
              "    <tr>\n",
              "      <th>2</th>\n",
              "      <td>8</td>\n",
              "      <td>183</td>\n",
              "      <td>64</td>\n",
              "      <td>0</td>\n",
              "      <td>0</td>\n",
              "      <td>23.3</td>\n",
              "      <td>0.672</td>\n",
              "      <td>32</td>\n",
              "      <td>1</td>\n",
              "    </tr>\n",
              "    <tr>\n",
              "      <th>3</th>\n",
              "      <td>1</td>\n",
              "      <td>89</td>\n",
              "      <td>66</td>\n",
              "      <td>23</td>\n",
              "      <td>94</td>\n",
              "      <td>28.1</td>\n",
              "      <td>0.167</td>\n",
              "      <td>21</td>\n",
              "      <td>0</td>\n",
              "    </tr>\n",
              "    <tr>\n",
              "      <th>4</th>\n",
              "      <td>0</td>\n",
              "      <td>137</td>\n",
              "      <td>40</td>\n",
              "      <td>35</td>\n",
              "      <td>168</td>\n",
              "      <td>43.1</td>\n",
              "      <td>2.288</td>\n",
              "      <td>33</td>\n",
              "      <td>1</td>\n",
              "    </tr>\n",
              "  </tbody>\n",
              "</table>\n",
              "</div>"
            ],
            "text/plain": [
              "   Pregnancies  Glucose  BloodPressure  ...  DiabetesPedigreeFunction  Age  Outcome\n",
              "0            6      148             72  ...                     0.627   50        1\n",
              "1            1       85             66  ...                     0.351   31        0\n",
              "2            8      183             64  ...                     0.672   32        1\n",
              "3            1       89             66  ...                     0.167   21        0\n",
              "4            0      137             40  ...                     2.288   33        1\n",
              "\n",
              "[5 rows x 9 columns]"
            ]
          },
          "metadata": {},
          "execution_count": 4
        }
      ]
    },
    {
      "cell_type": "markdown",
      "metadata": {
        "id": "BdDjwW7cX6GN"
      },
      "source": [
        "The datasets consists of several medical predictor variables and one target variable, Outcome. Predictor variables includes the number of pregnancies the patient has had, their BMI, insulin level, age, and so on."
      ]
    },
    {
      "cell_type": "markdown",
      "metadata": {
        "id": "UmXOhqmkX-Qn"
      },
      "source": [
        "**Acknowledgements**\n",
        "\n",
        "Smith, J.W., Everhart, J.E., Dickson, W.C., Knowler, W.C., & Johannes, R.S. (1988). Using the ADAP learning algorithm to forecast the onset of diabetes mellitus. In Proceedings of the Symposium on Computer Applications and Medical Care (pp. 261--265). IEEE Computer Society Press."
      ]
    },
    {
      "cell_type": "markdown",
      "metadata": {
        "id": "1FLZi793Yl2g"
      },
      "source": [
        "The different columns present in the dataset are:\n",
        "\n",
        "Pregnancies -> Number of times Pregnant\n",
        "\n",
        "Glucose -> Plasma glucose concentration\n",
        "\n",
        "BloodPressure -> Diastolic blood pressure (mm Hg)\n",
        "\n",
        "SkinThickness -> Triceps skin fold thickness (mm)\n",
        "\n",
        "Insulin -> 2-Hour serum insulin (mu U/ml)\n",
        "\n",
        "BMI -> Body Mass Index\n",
        "\n",
        "DiabetesPedigreeFunction -> Diabetes pedigree function\n",
        "\n",
        "Age -> Age in years\n",
        "\n",
        "Outcome -> Whether the lady is diabetic or not, 0 represents the person is not diabetic and 1 represents that the person is diabetic."
      ]
    },
    {
      "cell_type": "code",
      "metadata": {
        "colab": {
          "base_uri": "https://localhost:8080/",
          "height": 317
        },
        "id": "WP4y84mHVHCJ",
        "outputId": "9c080ea4-5f70-4360-d401-17de110fdcc9"
      },
      "source": [
        "data.describe()"
      ],
      "execution_count": 5,
      "outputs": [
        {
          "output_type": "execute_result",
          "data": {
            "text/html": [
              "<div>\n",
              "<style scoped>\n",
              "    .dataframe tbody tr th:only-of-type {\n",
              "        vertical-align: middle;\n",
              "    }\n",
              "\n",
              "    .dataframe tbody tr th {\n",
              "        vertical-align: top;\n",
              "    }\n",
              "\n",
              "    .dataframe thead th {\n",
              "        text-align: right;\n",
              "    }\n",
              "</style>\n",
              "<table border=\"1\" class=\"dataframe\">\n",
              "  <thead>\n",
              "    <tr style=\"text-align: right;\">\n",
              "      <th></th>\n",
              "      <th>Pregnancies</th>\n",
              "      <th>Glucose</th>\n",
              "      <th>BloodPressure</th>\n",
              "      <th>SkinThickness</th>\n",
              "      <th>Insulin</th>\n",
              "      <th>BMI</th>\n",
              "      <th>DiabetesPedigreeFunction</th>\n",
              "      <th>Age</th>\n",
              "      <th>Outcome</th>\n",
              "    </tr>\n",
              "  </thead>\n",
              "  <tbody>\n",
              "    <tr>\n",
              "      <th>count</th>\n",
              "      <td>768.000000</td>\n",
              "      <td>768.000000</td>\n",
              "      <td>768.000000</td>\n",
              "      <td>768.000000</td>\n",
              "      <td>768.000000</td>\n",
              "      <td>768.000000</td>\n",
              "      <td>768.000000</td>\n",
              "      <td>768.000000</td>\n",
              "      <td>768.000000</td>\n",
              "    </tr>\n",
              "    <tr>\n",
              "      <th>mean</th>\n",
              "      <td>3.845052</td>\n",
              "      <td>120.894531</td>\n",
              "      <td>69.105469</td>\n",
              "      <td>20.536458</td>\n",
              "      <td>79.799479</td>\n",
              "      <td>31.992578</td>\n",
              "      <td>0.471876</td>\n",
              "      <td>33.240885</td>\n",
              "      <td>0.348958</td>\n",
              "    </tr>\n",
              "    <tr>\n",
              "      <th>std</th>\n",
              "      <td>3.369578</td>\n",
              "      <td>31.972618</td>\n",
              "      <td>19.355807</td>\n",
              "      <td>15.952218</td>\n",
              "      <td>115.244002</td>\n",
              "      <td>7.884160</td>\n",
              "      <td>0.331329</td>\n",
              "      <td>11.760232</td>\n",
              "      <td>0.476951</td>\n",
              "    </tr>\n",
              "    <tr>\n",
              "      <th>min</th>\n",
              "      <td>0.000000</td>\n",
              "      <td>0.000000</td>\n",
              "      <td>0.000000</td>\n",
              "      <td>0.000000</td>\n",
              "      <td>0.000000</td>\n",
              "      <td>0.000000</td>\n",
              "      <td>0.078000</td>\n",
              "      <td>21.000000</td>\n",
              "      <td>0.000000</td>\n",
              "    </tr>\n",
              "    <tr>\n",
              "      <th>25%</th>\n",
              "      <td>1.000000</td>\n",
              "      <td>99.000000</td>\n",
              "      <td>62.000000</td>\n",
              "      <td>0.000000</td>\n",
              "      <td>0.000000</td>\n",
              "      <td>27.300000</td>\n",
              "      <td>0.243750</td>\n",
              "      <td>24.000000</td>\n",
              "      <td>0.000000</td>\n",
              "    </tr>\n",
              "    <tr>\n",
              "      <th>50%</th>\n",
              "      <td>3.000000</td>\n",
              "      <td>117.000000</td>\n",
              "      <td>72.000000</td>\n",
              "      <td>23.000000</td>\n",
              "      <td>30.500000</td>\n",
              "      <td>32.000000</td>\n",
              "      <td>0.372500</td>\n",
              "      <td>29.000000</td>\n",
              "      <td>0.000000</td>\n",
              "    </tr>\n",
              "    <tr>\n",
              "      <th>75%</th>\n",
              "      <td>6.000000</td>\n",
              "      <td>140.250000</td>\n",
              "      <td>80.000000</td>\n",
              "      <td>32.000000</td>\n",
              "      <td>127.250000</td>\n",
              "      <td>36.600000</td>\n",
              "      <td>0.626250</td>\n",
              "      <td>41.000000</td>\n",
              "      <td>1.000000</td>\n",
              "    </tr>\n",
              "    <tr>\n",
              "      <th>max</th>\n",
              "      <td>17.000000</td>\n",
              "      <td>199.000000</td>\n",
              "      <td>122.000000</td>\n",
              "      <td>99.000000</td>\n",
              "      <td>846.000000</td>\n",
              "      <td>67.100000</td>\n",
              "      <td>2.420000</td>\n",
              "      <td>81.000000</td>\n",
              "      <td>1.000000</td>\n",
              "    </tr>\n",
              "  </tbody>\n",
              "</table>\n",
              "</div>"
            ],
            "text/plain": [
              "       Pregnancies     Glucose  ...         Age     Outcome\n",
              "count   768.000000  768.000000  ...  768.000000  768.000000\n",
              "mean      3.845052  120.894531  ...   33.240885    0.348958\n",
              "std       3.369578   31.972618  ...   11.760232    0.476951\n",
              "min       0.000000    0.000000  ...   21.000000    0.000000\n",
              "25%       1.000000   99.000000  ...   24.000000    0.000000\n",
              "50%       3.000000  117.000000  ...   29.000000    0.000000\n",
              "75%       6.000000  140.250000  ...   41.000000    1.000000\n",
              "max      17.000000  199.000000  ...   81.000000    1.000000\n",
              "\n",
              "[8 rows x 9 columns]"
            ]
          },
          "metadata": {},
          "execution_count": 5
        }
      ]
    },
    {
      "cell_type": "code",
      "metadata": {
        "colab": {
          "base_uri": "https://localhost:8080/",
          "height": 333
        },
        "id": "YiGp6Q3gYr4S",
        "outputId": "a257903c-e1aa-499a-9fe6-4906e5a934db"
      },
      "source": [
        "import seaborn as sns\n",
        "from itertools import cycle\n",
        "color_cycle = cycle(plt.rcParams['axes.prop_cycle'].by_key()['color'])\n",
        "\n",
        "sns.countplot(data['Outcome'])\n",
        "plt.show()"
      ],
      "execution_count": 6,
      "outputs": [
        {
          "output_type": "stream",
          "name": "stderr",
          "text": [
            "/usr/local/lib/python3.7/dist-packages/seaborn/_decorators.py:43: FutureWarning: Pass the following variable as a keyword arg: x. From version 0.12, the only valid positional argument will be `data`, and passing other arguments without an explicit keyword will result in an error or misinterpretation.\n",
            "  FutureWarning\n"
          ]
        },
        {
          "output_type": "display_data",
          "data": {
            "image/png": "[encoded data removed]",
            "text/plain": [
              "<Figure size 432x288 with 1 Axes>"
            ]
          },
          "metadata": {
            "needs_background": "light"
          }
        }
      ]
    },
    {
      "cell_type": "code",
      "metadata": {
        "colab": {
          "base_uri": "https://localhost:8080/"
        },
        "id": "j8jsQLekZFOS",
        "outputId": "7e0fe0ed-47aa-4cb1-cffb-ccd30d0cc320"
      },
      "source": [
        "data['Outcome'].value_counts()"
      ],
      "execution_count": 7,
      "outputs": [
        {
          "output_type": "execute_result",
          "data": {
            "text/plain": [
              "0    500\n",
              "1    268\n",
              "Name: Outcome, dtype: int64"
            ]
          },
          "metadata": {},
          "execution_count": 7
        }
      ]
    },
    {
      "cell_type": "code",
      "metadata": {
        "colab": {
          "base_uri": "https://localhost:8080/",
          "height": 265
        },
        "id": "vH6dOAHvYzFs",
        "outputId": "081f760a-8de4-4a3c-f95c-2418c3778738"
      },
      "source": [
        "fig, ax = plt.subplots()\n",
        "\n",
        "labels = ['Diabetic', \n",
        "         'Non-Diabetic']\n",
        "percentages = [34.89, 65.10]\n",
        "explode=(0.1,0)\n",
        "ax.pie(percentages, explode=explode, labels=labels, autopct='%1.0f%%', \n",
        "       shadow=False, startangle=0,   \n",
        "       pctdistance=1.2,labeldistance=1.4)\n",
        "ax.legend(frameon=False, bbox_to_anchor=(1.5,0.8))\n",
        "plt.show()"
      ],
      "execution_count": 8,
      "outputs": [
        {
          "output_type": "display_data",
          "data": {
            "image/png": "[encoded data removed]",
            "text/plain": [
              "<Figure size 432x288 with 1 Axes>"
            ]
          },
          "metadata": {}
        }
      ]
    },
    {
      "cell_type": "markdown",
      "metadata": {
        "id": "I6ekIQaNZiRF"
      },
      "source": [
        "Before we move ahead, we need to check what are the minimum values for each column, certain columns like Glucose or Insulin can not have values as 0. Therefore, we need to take care of such values."
      ]
    },
    {
      "cell_type": "code",
      "metadata": {
        "colab": {
          "base_uri": "https://localhost:8080/"
        },
        "id": "1howbXp1ZPo0",
        "outputId": "11d98b3a-cb75-42fc-e924-57ae314d605e"
      },
      "source": [
        "for col in data.columns:\n",
        "    print(\"The minimum value fore the columns {} is {}\".format(col, data[col].min()))"
      ],
      "execution_count": 9,
      "outputs": [
        {
          "output_type": "stream",
          "name": "stdout",
          "text": [
            "The minimum value fore the columns Pregnancies is 0\n",
            "The minimum value fore the columns Glucose is 0\n",
            "The minimum value fore the columns BloodPressure is 0\n",
            "The minimum value fore the columns SkinThickness is 0\n",
            "The minimum value fore the columns Insulin is 0\n",
            "The minimum value fore the columns BMI is 0.0\n",
            "The minimum value fore the columns DiabetesPedigreeFunction is 0.078\n",
            "The minimum value fore the columns Age is 21\n",
            "The minimum value fore the columns Outcome is 0\n"
          ]
        }
      ]
    },
    {
      "cell_type": "markdown",
      "metadata": {
        "id": "tYkYf8s4Z-sL"
      },
      "source": [
        "We see that there are actually columns whose minimum value is 0 which doesnt make sense as it shouldnt be possible except  Pregnancies."
      ]
    },
    {
      "cell_type": "markdown",
      "metadata": {
        "id": "zE7_PlR6aYxo"
      },
      "source": [
        "We will replace the 0 values in certain columns to null values ."
      ]
    },
    {
      "cell_type": "code",
      "metadata": {
        "id": "MleD5Y3qZrCw"
      },
      "source": [
        "data[['Glucose', 'BloodPressure', 'SkinThickness', 'Insulin', 'BMI']] = data[['Glucose', 'BloodPressure', 'SkinThickness', 'Insulin', 'BMI']].replace(0, np.nan)"
      ],
      "execution_count": 10,
      "outputs": []
    },
    {
      "cell_type": "code",
      "metadata": {
        "colab": {
          "base_uri": "https://localhost:8080/",
          "height": 371
        },
        "id": "onvZGL1WahbS",
        "outputId": "1034d17b-b6f3-4c04-dcb8-2ce76bbff180"
      },
      "source": [
        "def msv_1(data, thresh = 20, color = 'black', edgecolor = 'black', height = 3, width = 15):\n",
        "    \n",
        "    plt.figure(figsize = (width, height))\n",
        "    percentage = (data.isnull().mean()) * 100\n",
        "    percentage.sort_values(ascending = False).plot.bar(color = color, edgecolor = edgecolor)\n",
        "    plt.axhline(y = thresh, color = 'r', linestyle = '-')\n",
        "    \n",
        "    plt.title('Missing values percentage per column', fontsize=20, weight='bold' )\n",
        "    \n",
        "    plt.text(len(data.isnull().sum()/len(data))/1.7, thresh+2.5, f'Columns with more than {thresh}% missing values', fontsize=12, color='crimson',\n",
        "         ha='left' ,va='top')\n",
        "    plt.text(len(data.isnull().sum()/len(data))/1.7, thresh - 0.5, f'Columns with less than {thresh}% missing values', fontsize=12, color='green',\n",
        "         ha='left' ,va='top')\n",
        "    plt.xlabel('Columns', size=15, weight='bold')\n",
        "    plt.ylabel('Missing values percentage')\n",
        "    plt.yticks(weight ='bold')\n",
        "    \n",
        "    return plt.show()\n",
        "msv_1(data, 20, color=sns.color_palette('Reds',15))"
      ],
      "execution_count": 11,
      "outputs": [
        {
          "output_type": "display_data",
          "data": {
            "image/png": "[encoded data removed]",
            "text/plain": [
              "<Figure size 1080x216 with 1 Axes>"
            ]
          },
          "metadata": {
            "needs_background": "light"
          }
        }
      ]
    },
    {
      "cell_type": "markdown",
      "metadata": {
        "id": "mHDBdZkAbSP8"
      },
      "source": [
        "We can observe that Insulin column has close to 50% zero or null values, followed by SkinThickness that has close to 30% missing values. We will be filling these values later."
      ]
    },
    {
      "cell_type": "code",
      "metadata": {
        "colab": {
          "base_uri": "https://localhost:8080/",
          "height": 642
        },
        "id": "TIPHbbLEaxM8",
        "outputId": "106d1ac5-5dd1-44ff-80df-30f2a7156ec2"
      },
      "source": [
        "fig, axes = plt.subplots(4, 2, figsize=(15, 10))\n",
        "axes = axes.flatten()\n",
        "ax_idx = 0\n",
        "columns = data.drop('Outcome', axis = 1).columns\n",
        "for col in columns:\n",
        "    data[col].plot(kind = 'hist', ax = axes[ax_idx], title = col, color = next(color_cycle))\n",
        "    ax_idx += 1\n",
        "\n",
        "\n",
        "plt.tight_layout()\n",
        "plt.show()"
      ],
      "execution_count": 12,
      "outputs": [
        {
          "output_type": "display_data",
          "data": {
            "image/png": "[encoded data removed]",
            "text/plain": [
              "<Figure size 1080x720 with 8 Axes>"
            ]
          },
          "metadata": {
            "needs_background": "light"
          }
        }
      ]
    },
    {
      "cell_type": "markdown",
      "metadata": {
        "id": "3Xb-5jSocGFe"
      },
      "source": [
        "Let's check the skewness of each of the columns.\n",
        "\n",
        "Skewness refers to the amount of asymmetry in the given feature or in other words amount of distortions from the normal distribution. The peak of the histogram represents the mode"
      ]
    },
    {
      "cell_type": "code",
      "metadata": {
        "colab": {
          "base_uri": "https://localhost:8080/"
        },
        "id": "Q70dpg5XcG9v",
        "outputId": "3e3cee20-2198-4286-c3bf-181c72a9ff44"
      },
      "source": [
        "from scipy.stats import skew\n",
        "for col in data.drop('Outcome', axis = 1).columns:\n",
        "    print(\"Skewness for the column {} is {}\".format(col, data[col].skew()))"
      ],
      "execution_count": 13,
      "outputs": [
        {
          "output_type": "stream",
          "name": "stdout",
          "text": [
            "Skewness for the column Pregnancies is 0.9016739791518588\n",
            "Skewness for the column Glucose is 0.5309885349396285\n",
            "Skewness for the column BloodPressure is 0.13415273171959252\n",
            "Skewness for the column SkinThickness is 0.690619013984192\n",
            "Skewness for the column Insulin is 2.166463843812443\n",
            "Skewness for the column BMI is 0.5939697505712673\n",
            "Skewness for the column DiabetesPedigreeFunction is 1.919911066307204\n",
            "Skewness for the column Age is 1.1295967011444805\n"
          ]
        }
      ]
    },
    {
      "cell_type": "markdown",
      "metadata": {
        "id": "cPtMwN3UcQ_O"
      },
      "source": [
        "Columns like Pregnancies, Glucose, BloodPressure, SkinThickness and BMI are not that much skewed. We can fill null values with the mean for these columns, but for columns like Insulin and DiabetesPedigreeFunction, we will have to replace them will median due to the effect of skewness."
      ]
    },
    {
      "cell_type": "code",
      "metadata": {
        "id": "LC2cQxKocNv2"
      },
      "source": [
        "data['Insulin'] = data['Insulin'].fillna(data['Insulin'].median()) # Filling null values with the median.\n",
        "\n",
        "for col in ['Glucose', 'BloodPressure', 'SkinThickness', 'BMI']:\n",
        "    data[col] = data[col].fillna(data[col].mean())"
      ],
      "execution_count": 14,
      "outputs": []
    },
    {
      "cell_type": "markdown",
      "metadata": {
        "id": "XDa0OEyecj58"
      },
      "source": [
        "Now that we have filled all the null values , we shall look at the plot again that showed the number of null values per column."
      ]
    },
    {
      "cell_type": "code",
      "metadata": {
        "colab": {
          "base_uri": "https://localhost:8080/",
          "height": 382
        },
        "id": "Nysi42uWccsq",
        "outputId": "f50c3842-80ac-4421-efb7-897d2c363abf"
      },
      "source": [
        "msv_1(data, 10, color=sns.color_palette('Greens',15))"
      ],
      "execution_count": 15,
      "outputs": [
        {
          "output_type": "display_data",
          "data": {
            "image/png": "[encoded data removed]",
            "text/plain": [
              "<Figure size 1080x216 with 1 Axes>"
            ]
          },
          "metadata": {
            "needs_background": "light"
          }
        }
      ]
    },
    {
      "cell_type": "markdown",
      "metadata": {
        "id": "5hDRhFvScvbm"
      },
      "source": [
        "Now  that all the columns have less than 10% null values , we can further work with this dataset ( excluding null values alltogether ) ."
      ]
    },
    {
      "cell_type": "code",
      "metadata": {
        "id": "8eO_1Xgdcrzi"
      },
      "source": [
        "def mean_target(var):\n",
        "    \"\"\"\n",
        "    A function that will return the mean values for 'var' column depending on whether the person\n",
        "    is diabetic or not\n",
        "    \"\"\"\n",
        "    return pd.DataFrame(data.groupby('Outcome').mean()[var])"
      ],
      "execution_count": 16,
      "outputs": []
    },
    {
      "cell_type": "code",
      "metadata": {
        "id": "ad2jcpjIdJl9"
      },
      "source": [
        "def distplot(col_name):\n",
        "    \"\"\"\n",
        "    A function that will plot the distribution of column 'col_name' for diabetic and non-diabetic people separately\n",
        "    \"\"\"\n",
        "    plt.figure()\n",
        "    ax = sns.distplot(data[col_name][data.Outcome == 1], color =\"red\", rug = True)\n",
        "    sns.distplot(data[col_name][data.Outcome == 0], color =\"lightblue\",rug = True)\n",
        "    plt.legend(['Diabetes', 'No Diabetes'])"
      ],
      "execution_count": 17,
      "outputs": []
    },
    {
      "cell_type": "code",
      "metadata": {
        "colab": {
          "base_uri": "https://localhost:8080/",
          "height": 435
        },
        "id": "ZeflC7kHdRWJ",
        "outputId": "d58702b8-0038-458b-d6ca-a07597d3c46f"
      },
      "source": [
        "distplot('Pregnancies')\n"
      ],
      "execution_count": 18,
      "outputs": [
        {
          "output_type": "stream",
          "name": "stderr",
          "text": [
            "/usr/local/lib/python3.7/dist-packages/seaborn/distributions.py:2619: FutureWarning: `distplot` is a deprecated function and will be removed in a future version. Please adapt your code to use either `displot` (a figure-level function with similar flexibility) or `histplot` (an axes-level function for histograms).\n",
            "  warnings.warn(msg, FutureWarning)\n",
            "/usr/local/lib/python3.7/dist-packages/seaborn/distributions.py:2103: FutureWarning: The `axis` variable is no longer used and will be removed. Instead, assign variables directly to `x` or `y`.\n",
            "  warnings.warn(msg, FutureWarning)\n",
            "/usr/local/lib/python3.7/dist-packages/seaborn/distributions.py:2619: FutureWarning: `distplot` is a deprecated function and will be removed in a future version. Please adapt your code to use either `displot` (a figure-level function with similar flexibility) or `histplot` (an axes-level function for histograms).\n",
            "  warnings.warn(msg, FutureWarning)\n",
            "/usr/local/lib/python3.7/dist-packages/seaborn/distributions.py:2103: FutureWarning: The `axis` variable is no longer used and will be removed. Instead, assign variables directly to `x` or `y`.\n",
            "  warnings.warn(msg, FutureWarning)\n"
          ]
        },
        {
          "output_type": "display_data",
          "data": {
            "image/png": "[encoded data removed]",
            "text/plain": [
              "<Figure size 432x288 with 1 Axes>"
            ]
          },
          "metadata": {
            "needs_background": "light"
          }
        }
      ]
    },
    {
      "cell_type": "code",
      "metadata": {
        "id": "IdV1NnTIdVt9",
        "colab": {
          "base_uri": "https://localhost:8080/",
          "height": 142
        },
        "outputId": "22211127-7b1a-44be-eada-147d753009d2"
      },
      "source": [
        "mean_target('Pregnancies')"
      ],
      "execution_count": 19,
      "outputs": [
        {
          "output_type": "execute_result",
          "data": {
            "text/html": [
              "<div>\n",
              "<style scoped>\n",
              "    .dataframe tbody tr th:only-of-type {\n",
              "        vertical-align: middle;\n",
              "    }\n",
              "\n",
              "    .dataframe tbody tr th {\n",
              "        vertical-align: top;\n",
              "    }\n",
              "\n",
              "    .dataframe thead th {\n",
              "        text-align: right;\n",
              "    }\n",
              "</style>\n",
              "<table border=\"1\" class=\"dataframe\">\n",
              "  <thead>\n",
              "    <tr style=\"text-align: right;\">\n",
              "      <th></th>\n",
              "      <th>Pregnancies</th>\n",
              "    </tr>\n",
              "    <tr>\n",
              "      <th>Outcome</th>\n",
              "      <th></th>\n",
              "    </tr>\n",
              "  </thead>\n",
              "  <tbody>\n",
              "    <tr>\n",
              "      <th>0</th>\n",
              "      <td>3.298000</td>\n",
              "    </tr>\n",
              "    <tr>\n",
              "      <th>1</th>\n",
              "      <td>4.865672</td>\n",
              "    </tr>\n",
              "  </tbody>\n",
              "</table>\n",
              "</div>"
            ],
            "text/plain": [
              "         Pregnancies\n",
              "Outcome             \n",
              "0           3.298000\n",
              "1           4.865672"
            ]
          },
          "metadata": {},
          "execution_count": 19
        }
      ]
    },
    {
      "cell_type": "markdown",
      "metadata": {
        "id": "Bn1nS6SyvKwM"
      },
      "source": [
        "We see that the number of pregnancies is higher in people that have diabetes."
      ]
    },
    {
      "cell_type": "code",
      "metadata": {
        "colab": {
          "base_uri": "https://localhost:8080/",
          "height": 438
        },
        "id": "Z-jHUT_qvJzJ",
        "outputId": "0cdac286-cea2-4818-d106-e953a1c8759b"
      },
      "source": [
        "distplot('Insulin')"
      ],
      "execution_count": 20,
      "outputs": [
        {
          "output_type": "stream",
          "name": "stderr",
          "text": [
            "/usr/local/lib/python3.7/dist-packages/seaborn/distributions.py:2619: FutureWarning: `distplot` is a deprecated function and will be removed in a future version. Please adapt your code to use either `displot` (a figure-level function with similar flexibility) or `histplot` (an axes-level function for histograms).\n",
            "  warnings.warn(msg, FutureWarning)\n",
            "/usr/local/lib/python3.7/dist-packages/seaborn/distributions.py:2103: FutureWarning: The `axis` variable is no longer used and will be removed. Instead, assign variables directly to `x` or `y`.\n",
            "  warnings.warn(msg, FutureWarning)\n",
            "/usr/local/lib/python3.7/dist-packages/seaborn/distributions.py:2619: FutureWarning: `distplot` is a deprecated function and will be removed in a future version. Please adapt your code to use either `displot` (a figure-level function with similar flexibility) or `histplot` (an axes-level function for histograms).\n",
            "  warnings.warn(msg, FutureWarning)\n",
            "/usr/local/lib/python3.7/dist-packages/seaborn/distributions.py:2103: FutureWarning: The `axis` variable is no longer used and will be removed. Instead, assign variables directly to `x` or `y`.\n",
            "  warnings.warn(msg, FutureWarning)\n"
          ]
        },
        {
          "output_type": "display_data",
          "data": {
            "image/png": "[encoded data removed]",
            "text/plain": [
              "<Figure size 432x288 with 1 Axes>"
            ]
          },
          "metadata": {
            "needs_background": "light"
          }
        }
      ]
    },
    {
      "cell_type": "code",
      "metadata": {
        "colab": {
          "base_uri": "https://localhost:8080/",
          "height": 142
        },
        "id": "c9LEwczKvXeM",
        "outputId": "79f731ac-fddd-4cce-ee20-dd42da69c6e7"
      },
      "source": [
        "mean_target('Insulin')"
      ],
      "execution_count": 21,
      "outputs": [
        {
          "output_type": "execute_result",
          "data": {
            "text/html": [
              "<div>\n",
              "<style scoped>\n",
              "    .dataframe tbody tr th:only-of-type {\n",
              "        vertical-align: middle;\n",
              "    }\n",
              "\n",
              "    .dataframe tbody tr th {\n",
              "        vertical-align: top;\n",
              "    }\n",
              "\n",
              "    .dataframe thead th {\n",
              "        text-align: right;\n",
              "    }\n",
              "</style>\n",
              "<table border=\"1\" class=\"dataframe\">\n",
              "  <thead>\n",
              "    <tr style=\"text-align: right;\">\n",
              "      <th></th>\n",
              "      <th>Insulin</th>\n",
              "    </tr>\n",
              "    <tr>\n",
              "      <th>Outcome</th>\n",
              "      <th></th>\n",
              "    </tr>\n",
              "  </thead>\n",
              "  <tbody>\n",
              "    <tr>\n",
              "      <th>0</th>\n",
              "      <td>127.792000</td>\n",
              "    </tr>\n",
              "    <tr>\n",
              "      <th>1</th>\n",
              "      <td>164.701493</td>\n",
              "    </tr>\n",
              "  </tbody>\n",
              "</table>\n",
              "</div>"
            ],
            "text/plain": [
              "            Insulin\n",
              "Outcome            \n",
              "0        127.792000\n",
              "1        164.701493"
            ]
          },
          "metadata": {},
          "execution_count": 21
        }
      ]
    },
    {
      "cell_type": "markdown",
      "metadata": {
        "id": "gDncMaCHvKL9"
      },
      "source": [
        "Diabetic People tend to have more Insulin level."
      ]
    },
    {
      "cell_type": "code",
      "metadata": {
        "colab": {
          "base_uri": "https://localhost:8080/",
          "height": 435
        },
        "id": "XZ_vXT7hvcKp",
        "outputId": "b6763bc8-ec32-44ef-b185-62413841a30d"
      },
      "source": [
        "distplot('BloodPressure')"
      ],
      "execution_count": 22,
      "outputs": [
        {
          "output_type": "stream",
          "name": "stderr",
          "text": [
            "/usr/local/lib/python3.7/dist-packages/seaborn/distributions.py:2619: FutureWarning: `distplot` is a deprecated function and will be removed in a future version. Please adapt your code to use either `displot` (a figure-level function with similar flexibility) or `histplot` (an axes-level function for histograms).\n",
            "  warnings.warn(msg, FutureWarning)\n",
            "/usr/local/lib/python3.7/dist-packages/seaborn/distributions.py:2103: FutureWarning: The `axis` variable is no longer used and will be removed. Instead, assign variables directly to `x` or `y`.\n",
            "  warnings.warn(msg, FutureWarning)\n",
            "/usr/local/lib/python3.7/dist-packages/seaborn/distributions.py:2619: FutureWarning: `distplot` is a deprecated function and will be removed in a future version. Please adapt your code to use either `displot` (a figure-level function with similar flexibility) or `histplot` (an axes-level function for histograms).\n",
            "  warnings.warn(msg, FutureWarning)\n",
            "/usr/local/lib/python3.7/dist-packages/seaborn/distributions.py:2103: FutureWarning: The `axis` variable is no longer used and will be removed. Instead, assign variables directly to `x` or `y`.\n",
            "  warnings.warn(msg, FutureWarning)\n"
          ]
        },
        {
          "output_type": "display_data",
          "data": {
            "image/png": "[encoded data removed]",
            "text/plain": [
              "<Figure size 432x288 with 1 Axes>"
            ]
          },
          "metadata": {
            "needs_background": "light"
          }
        }
      ]
    },
    {
      "cell_type": "code",
      "metadata": {
        "colab": {
          "base_uri": "https://localhost:8080/",
          "height": 142
        },
        "id": "oZtY3iKSve4e",
        "outputId": "00b43d68-e1e1-4979-dba8-a3b248e6c706"
      },
      "source": [
        "mean_target('BloodPressure')"
      ],
      "execution_count": 23,
      "outputs": [
        {
          "output_type": "execute_result",
          "data": {
            "text/html": [
              "<div>\n",
              "<style scoped>\n",
              "    .dataframe tbody tr th:only-of-type {\n",
              "        vertical-align: middle;\n",
              "    }\n",
              "\n",
              "    .dataframe tbody tr th {\n",
              "        vertical-align: top;\n",
              "    }\n",
              "\n",
              "    .dataframe thead th {\n",
              "        text-align: right;\n",
              "    }\n",
              "</style>\n",
              "<table border=\"1\" class=\"dataframe\">\n",
              "  <thead>\n",
              "    <tr style=\"text-align: right;\">\n",
              "      <th></th>\n",
              "      <th>BloodPressure</th>\n",
              "    </tr>\n",
              "    <tr>\n",
              "      <th>Outcome</th>\n",
              "      <th></th>\n",
              "    </tr>\n",
              "  </thead>\n",
              "  <tbody>\n",
              "    <tr>\n",
              "      <th>0</th>\n",
              "      <td>70.935397</td>\n",
              "    </tr>\n",
              "    <tr>\n",
              "      <th>1</th>\n",
              "      <td>75.147324</td>\n",
              "    </tr>\n",
              "  </tbody>\n",
              "</table>\n",
              "</div>"
            ],
            "text/plain": [
              "         BloodPressure\n",
              "Outcome               \n",
              "0            70.935397\n",
              "1            75.147324"
            ]
          },
          "metadata": {},
          "execution_count": 23
        }
      ]
    },
    {
      "cell_type": "markdown",
      "metadata": {
        "id": "9G_Lqao2vjK7"
      },
      "source": [
        "Diabetic people tend to have a higher blood pressure."
      ]
    },
    {
      "cell_type": "code",
      "metadata": {
        "colab": {
          "base_uri": "https://localhost:8080/",
          "height": 436
        },
        "id": "tQtGgetdviAX",
        "outputId": "655438b5-fcca-4e68-e5ac-d4c701f3318e"
      },
      "source": [
        "distplot('Glucose')"
      ],
      "execution_count": 24,
      "outputs": [
        {
          "output_type": "stream",
          "name": "stderr",
          "text": [
            "/usr/local/lib/python3.7/dist-packages/seaborn/distributions.py:2619: FutureWarning: `distplot` is a deprecated function and will be removed in a future version. Please adapt your code to use either `displot` (a figure-level function with similar flexibility) or `histplot` (an axes-level function for histograms).\n",
            "  warnings.warn(msg, FutureWarning)\n",
            "/usr/local/lib/python3.7/dist-packages/seaborn/distributions.py:2103: FutureWarning: The `axis` variable is no longer used and will be removed. Instead, assign variables directly to `x` or `y`.\n",
            "  warnings.warn(msg, FutureWarning)\n",
            "/usr/local/lib/python3.7/dist-packages/seaborn/distributions.py:2619: FutureWarning: `distplot` is a deprecated function and will be removed in a future version. Please adapt your code to use either `displot` (a figure-level function with similar flexibility) or `histplot` (an axes-level function for histograms).\n",
            "  warnings.warn(msg, FutureWarning)\n",
            "/usr/local/lib/python3.7/dist-packages/seaborn/distributions.py:2103: FutureWarning: The `axis` variable is no longer used and will be removed. Instead, assign variables directly to `x` or `y`.\n",
            "  warnings.warn(msg, FutureWarning)\n"
          ]
        },
        {
          "output_type": "display_data",
          "data": {
            "image/png": "[encoded data removed]",
            "text/plain": [
              "<Figure size 432x288 with 1 Axes>"
            ]
          },
          "metadata": {
            "needs_background": "light"
          }
        }
      ]
    },
    {
      "cell_type": "code",
      "metadata": {
        "colab": {
          "base_uri": "https://localhost:8080/",
          "height": 142
        },
        "id": "RjxdNsHXv2p1",
        "outputId": "a004d373-295c-490f-da10-3fd111b71d5c"
      },
      "source": [
        "mean_target('Glucose')"
      ],
      "execution_count": 25,
      "outputs": [
        {
          "output_type": "execute_result",
          "data": {
            "text/html": [
              "<div>\n",
              "<style scoped>\n",
              "    .dataframe tbody tr th:only-of-type {\n",
              "        vertical-align: middle;\n",
              "    }\n",
              "\n",
              "    .dataframe tbody tr th {\n",
              "        vertical-align: top;\n",
              "    }\n",
              "\n",
              "    .dataframe thead th {\n",
              "        text-align: right;\n",
              "    }\n",
              "</style>\n",
              "<table border=\"1\" class=\"dataframe\">\n",
              "  <thead>\n",
              "    <tr style=\"text-align: right;\">\n",
              "      <th></th>\n",
              "      <th>Glucose</th>\n",
              "    </tr>\n",
              "    <tr>\n",
              "      <th>Outcome</th>\n",
              "      <th></th>\n",
              "    </tr>\n",
              "  </thead>\n",
              "  <tbody>\n",
              "    <tr>\n",
              "      <th>0</th>\n",
              "      <td>110.710121</td>\n",
              "    </tr>\n",
              "    <tr>\n",
              "      <th>1</th>\n",
              "      <td>142.165573</td>\n",
              "    </tr>\n",
              "  </tbody>\n",
              "</table>\n",
              "</div>"
            ],
            "text/plain": [
              "            Glucose\n",
              "Outcome            \n",
              "0        110.710121\n",
              "1        142.165573"
            ]
          },
          "metadata": {},
          "execution_count": 25
        }
      ]
    },
    {
      "cell_type": "markdown",
      "metadata": {
        "id": "w_SHNaGtvign"
      },
      "source": [
        "Diabetic people tend to have  higher glucose levels."
      ]
    },
    {
      "cell_type": "code",
      "metadata": {
        "id": "ZB1KoftDv6ya"
      },
      "source": [
        "corr = data.corr()"
      ],
      "execution_count": 26,
      "outputs": []
    },
    {
      "cell_type": "code",
      "metadata": {
        "colab": {
          "base_uri": "https://localhost:8080/",
          "height": 348
        },
        "id": "e0QLjiA-wJ5r",
        "outputId": "1b9f3e85-8301-4b42-8c79-8be0f902f9e2"
      },
      "source": [
        "corr"
      ],
      "execution_count": 27,
      "outputs": [
        {
          "output_type": "execute_result",
          "data": {
            "text/html": [
              "<div>\n",
              "<style scoped>\n",
              "    .dataframe tbody tr th:only-of-type {\n",
              "        vertical-align: middle;\n",
              "    }\n",
              "\n",
              "    .dataframe tbody tr th {\n",
              "        vertical-align: top;\n",
              "    }\n",
              "\n",
              "    .dataframe thead th {\n",
              "        text-align: right;\n",
              "    }\n",
              "</style>\n",
              "<table border=\"1\" class=\"dataframe\">\n",
              "  <thead>\n",
              "    <tr style=\"text-align: right;\">\n",
              "      <th></th>\n",
              "      <th>Pregnancies</th>\n",
              "      <th>Glucose</th>\n",
              "      <th>BloodPressure</th>\n",
              "      <th>SkinThickness</th>\n",
              "      <th>Insulin</th>\n",
              "      <th>BMI</th>\n",
              "      <th>DiabetesPedigreeFunction</th>\n",
              "      <th>Age</th>\n",
              "      <th>Outcome</th>\n",
              "    </tr>\n",
              "  </thead>\n",
              "  <tbody>\n",
              "    <tr>\n",
              "      <th>Pregnancies</th>\n",
              "      <td>1.000000</td>\n",
              "      <td>0.127911</td>\n",
              "      <td>0.208522</td>\n",
              "      <td>0.082989</td>\n",
              "      <td>0.025047</td>\n",
              "      <td>0.021565</td>\n",
              "      <td>-0.033523</td>\n",
              "      <td>0.544341</td>\n",
              "      <td>0.221898</td>\n",
              "    </tr>\n",
              "    <tr>\n",
              "      <th>Glucose</th>\n",
              "      <td>0.127911</td>\n",
              "      <td>1.000000</td>\n",
              "      <td>0.218367</td>\n",
              "      <td>0.192991</td>\n",
              "      <td>0.419064</td>\n",
              "      <td>0.230941</td>\n",
              "      <td>0.137060</td>\n",
              "      <td>0.266534</td>\n",
              "      <td>0.492928</td>\n",
              "    </tr>\n",
              "    <tr>\n",
              "      <th>BloodPressure</th>\n",
              "      <td>0.208522</td>\n",
              "      <td>0.218367</td>\n",
              "      <td>1.000000</td>\n",
              "      <td>0.192816</td>\n",
              "      <td>0.045087</td>\n",
              "      <td>0.281268</td>\n",
              "      <td>-0.002763</td>\n",
              "      <td>0.324595</td>\n",
              "      <td>0.166074</td>\n",
              "    </tr>\n",
              "    <tr>\n",
              "      <th>SkinThickness</th>\n",
              "      <td>0.082989</td>\n",
              "      <td>0.192991</td>\n",
              "      <td>0.192816</td>\n",
              "      <td>1.000000</td>\n",
              "      <td>0.154678</td>\n",
              "      <td>0.542398</td>\n",
              "      <td>0.100966</td>\n",
              "      <td>0.127872</td>\n",
              "      <td>0.215299</td>\n",
              "    </tr>\n",
              "    <tr>\n",
              "      <th>Insulin</th>\n",
              "      <td>0.025047</td>\n",
              "      <td>0.419064</td>\n",
              "      <td>0.045087</td>\n",
              "      <td>0.154678</td>\n",
              "      <td>1.000000</td>\n",
              "      <td>0.180170</td>\n",
              "      <td>0.126503</td>\n",
              "      <td>0.097101</td>\n",
              "      <td>0.203790</td>\n",
              "    </tr>\n",
              "    <tr>\n",
              "      <th>BMI</th>\n",
              "      <td>0.021565</td>\n",
              "      <td>0.230941</td>\n",
              "      <td>0.281268</td>\n",
              "      <td>0.542398</td>\n",
              "      <td>0.180170</td>\n",
              "      <td>1.000000</td>\n",
              "      <td>0.153400</td>\n",
              "      <td>0.025519</td>\n",
              "      <td>0.311924</td>\n",
              "    </tr>\n",
              "    <tr>\n",
              "      <th>DiabetesPedigreeFunction</th>\n",
              "      <td>-0.033523</td>\n",
              "      <td>0.137060</td>\n",
              "      <td>-0.002763</td>\n",
              "      <td>0.100966</td>\n",
              "      <td>0.126503</td>\n",
              "      <td>0.153400</td>\n",
              "      <td>1.000000</td>\n",
              "      <td>0.033561</td>\n",
              "      <td>0.173844</td>\n",
              "    </tr>\n",
              "    <tr>\n",
              "      <th>Age</th>\n",
              "      <td>0.544341</td>\n",
              "      <td>0.266534</td>\n",
              "      <td>0.324595</td>\n",
              "      <td>0.127872</td>\n",
              "      <td>0.097101</td>\n",
              "      <td>0.025519</td>\n",
              "      <td>0.033561</td>\n",
              "      <td>1.000000</td>\n",
              "      <td>0.238356</td>\n",
              "    </tr>\n",
              "    <tr>\n",
              "      <th>Outcome</th>\n",
              "      <td>0.221898</td>\n",
              "      <td>0.492928</td>\n",
              "      <td>0.166074</td>\n",
              "      <td>0.215299</td>\n",
              "      <td>0.203790</td>\n",
              "      <td>0.311924</td>\n",
              "      <td>0.173844</td>\n",
              "      <td>0.238356</td>\n",
              "      <td>1.000000</td>\n",
              "    </tr>\n",
              "  </tbody>\n",
              "</table>\n",
              "</div>"
            ],
            "text/plain": [
              "                          Pregnancies   Glucose  ...       Age   Outcome\n",
              "Pregnancies                  1.000000  0.127911  ...  0.544341  0.221898\n",
              "Glucose                      0.127911  1.000000  ...  0.266534  0.492928\n",
              "BloodPressure                0.208522  0.218367  ...  0.324595  0.166074\n",
              "SkinThickness                0.082989  0.192991  ...  0.127872  0.215299\n",
              "Insulin                      0.025047  0.419064  ...  0.097101  0.203790\n",
              "BMI                          0.021565  0.230941  ...  0.025519  0.311924\n",
              "DiabetesPedigreeFunction    -0.033523  0.137060  ...  0.033561  0.173844\n",
              "Age                          0.544341  0.266534  ...  1.000000  0.238356\n",
              "Outcome                      0.221898  0.492928  ...  0.238356  1.000000\n",
              "\n",
              "[9 rows x 9 columns]"
            ]
          },
          "metadata": {},
          "execution_count": 27
        }
      ]
    },
    {
      "cell_type": "code",
      "metadata": {
        "id": "WwLqoRf7wKyl"
      },
      "source": [
        "from sklearn.model_selection import train_test_split\n",
        "\n",
        "X = data.drop('Outcome', axis = 1)\n",
        "y = data['Outcome']\n",
        "\n",
        "X_train, X_test, y_train, y_test = train_test_split(X, y, test_size = 0.25, random_state = 42, stratify = y)"
      ],
      "execution_count": 28,
      "outputs": []
    },
    {
      "cell_type": "code",
      "metadata": {
        "id": "7VLGBzzowV7B"
      },
      "source": [
        "\n",
        "from sklearn.preprocessing import StandardScaler\n",
        "sc = StandardScaler()\n",
        "X_train =  pd.DataFrame(sc.fit_transform(X_train),\n",
        "        columns=['Pregnancies', 'Glucose', 'BloodPressure', 'SkinThickness', 'Insulin','BMI', 'DiabetesPedigreeFunction', 'Age'])\n",
        "X_test = pd.DataFrame(sc.fit_transform(X_test),\n",
        "        columns=['Pregnancies', 'Glucose', 'BloodPressure', 'SkinThickness', 'Insulin','BMI', 'DiabetesPedigreeFunction', 'Age'])"
      ],
      "execution_count": 38,
      "outputs": []
    },
    {
      "cell_type": "code",
      "metadata": {
        "cellView": "form",
        "id": "fQM9yOcm1WjQ"
      },
      "source": [
        "#@title evaluation\n",
        "def evaluation(model, x_train_std, y_train, x_test, y_test, train = True):\n",
        "    \"\"\"\n",
        "    A function that returns the score of every evaluation metrics\n",
        "    \"\"\"\n",
        "    if train == True:\n",
        "        pred = model.predict(x_train_std)\n",
        "        classifier_report = pd.DataFrame(classification_report(y_train, pred, output_dict = True))\n",
        "        print(\"Train Result:\\n================================================\")\n",
        "        print(f\"Accuracy Score: {accuracy_score(y_train, pred) * 100:.2f}%\")\n",
        "        print(\"_______________________________________________\")\n",
        "        print(f\"F1 Score: {round(f1_score(y_train, pred), 2)}\")\n",
        "        print(\"_______________________________________________\")\n",
        "        print(f\"CLASSIFICATION REPORT:\\n{classifier_report}\")\n",
        "        print(\"_______________________________________________\")\n",
        "        print(f\"Confusion Matrix: \\n {confusion_matrix(y_train, pred)}\\n\")\n",
        "        \n",
        "    if train == False:\n",
        "        pred = model.predict(x_test)\n",
        "        classifier_report = pd.DataFrame(classification_report(y_test, pred, output_dict = True))\n",
        "        print(\"Test Result:\\n================================================\")\n",
        "        print(f\"Accuracy Score: {accuracy_score(y_test, pred) * 100:.2f}%\")\n",
        "        print(\"_______________________________________________\")\n",
        "        print(f\"F1 Score: {round(f1_score(y_test, pred), 2)}\")\n",
        "        print(\"_______________________________________________\")\n",
        "        print(f\"CLASSIFICATION REPORT:\\n{classifier_report}\")\n",
        "        print(\"_______________________________________________\")\n",
        "        print(f\"Confusion Matrix: \\n {confusion_matrix(y_test, pred)}\\n\")"
      ],
      "execution_count": 53,
      "outputs": []
    },
    {
      "cell_type": "code",
      "metadata": {
        "colab": {
          "base_uri": "https://localhost:8080/"
        },
        "id": "ywy1At3P1ArE",
        "outputId": "820a572a-19d9-493b-bffc-f4c86abee4ab"
      },
      "source": [
        "from sklearn.linear_model import LogisticRegression\n",
        "\n",
        "lr = LogisticRegression(solver = 'liblinear')\n",
        "lr.fit(X_train, y_train)\n",
        "\n",
        "evaluation(lr, X_train, y_train, X_test, y_test, True)\n",
        "print()\n",
        "evaluation(lr, X_train, y_train, X_test, y_test, False)"
      ],
      "execution_count": 54,
      "outputs": [
        {
          "output_type": "stream",
          "name": "stdout",
          "text": [
            "Train Result:\n",
            "================================================\n",
            "Accuracy Score: 78.99%\n",
            "_______________________________________________\n",
            "F1 Score: 0.66\n",
            "_______________________________________________\n",
            "CLASSIFICATION REPORT:\n",
            "                    0           1  accuracy   macro avg  weighted avg\n",
            "precision    0.803828    0.753165  0.789931    0.778496      0.786148\n",
            "recall       0.896000    0.592040  0.789931    0.744020      0.789931\n",
            "f1-score     0.847415    0.662953  0.789931    0.755184      0.783045\n",
            "support    375.000000  201.000000  0.789931  576.000000    576.000000\n",
            "_______________________________________________\n",
            "Confusion Matrix: \n",
            " [[336  39]\n",
            " [ 82 119]]\n",
            "\n",
            "\n",
            "Test Result:\n",
            "================================================\n",
            "Accuracy Score: 72.40%\n",
            "_______________________________________________\n",
            "F1 Score: 0.56\n",
            "_______________________________________________\n",
            "CLASSIFICATION REPORT:\n",
            "                    0          1  accuracy   macro avg  weighted avg\n",
            "precision    0.760870   0.629630  0.723958    0.695250      0.715072\n",
            "recall       0.840000   0.507463  0.723958    0.673731      0.723958\n",
            "f1-score     0.798479   0.561983  0.723958    0.680231      0.715952\n",
            "support    125.000000  67.000000  0.723958  192.000000    192.000000\n",
            "_______________________________________________\n",
            "Confusion Matrix: \n",
            " [[105  20]\n",
            " [ 33  34]]\n",
            "\n"
          ]
        }
      ]
    },
    {
      "cell_type": "code",
      "metadata": {
        "id": "to_6_UrP18s4"
      },
      "source": [
        "train_score_lr = round(accuracy_score(y_train, lr.predict(X_train)) * 100, 2)\n",
        "test_score_lr = round(accuracy_score(y_test, lr.predict(X_test)) * 100, 2)"
      ],
      "execution_count": 55,
      "outputs": []
    },
    {
      "cell_type": "markdown",
      "metadata": {
        "id": "tLy-GaiI2ERQ"
      },
      "source": [
        "Decision Tree classifier"
      ]
    },
    {
      "cell_type": "code",
      "metadata": {
        "colab": {
          "base_uri": "https://localhost:8080/"
        },
        "id": "kRPLGuND2Dp6",
        "outputId": "ad6ad362-b6fb-4a94-c094-3fba5ce8767e"
      },
      "source": [
        "from sklearn.tree import DecisionTreeClassifier\n",
        "\n",
        "dtc = DecisionTreeClassifier()\n",
        "dtc.fit(X_train, y_train)\n",
        "\n",
        "evaluation(dtc, X_train, y_train, X_test, y_test, True)\n",
        "print()\n",
        "evaluation(dtc, X_train, y_train, X_test, y_test, False)"
      ],
      "execution_count": 56,
      "outputs": [
        {
          "output_type": "stream",
          "name": "stdout",
          "text": [
            "Train Result:\n",
            "================================================\n",
            "Accuracy Score: 100.00%\n",
            "_______________________________________________\n",
            "F1 Score: 1.0\n",
            "_______________________________________________\n",
            "CLASSIFICATION REPORT:\n",
            "               0      1  accuracy  macro avg  weighted avg\n",
            "precision    1.0    1.0       1.0        1.0           1.0\n",
            "recall       1.0    1.0       1.0        1.0           1.0\n",
            "f1-score     1.0    1.0       1.0        1.0           1.0\n",
            "support    375.0  201.0       1.0      576.0         576.0\n",
            "_______________________________________________\n",
            "Confusion Matrix: \n",
            " [[375   0]\n",
            " [  0 201]]\n",
            "\n",
            "\n",
            "Test Result:\n",
            "================================================\n",
            "Accuracy Score: 69.79%\n",
            "_______________________________________________\n",
            "F1 Score: 0.54\n",
            "_______________________________________________\n",
            "CLASSIFICATION REPORT:\n",
            "                    0          1  accuracy   macro avg  weighted avg\n",
            "precision    0.751880   0.576271  0.697917    0.664075      0.690600\n",
            "recall       0.800000   0.507463  0.697917    0.653731      0.697917\n",
            "f1-score     0.775194   0.539683  0.697917    0.657438      0.693010\n",
            "support    125.000000  67.000000  0.697917  192.000000    192.000000\n",
            "_______________________________________________\n",
            "Confusion Matrix: \n",
            " [[100  25]\n",
            " [ 33  34]]\n",
            "\n"
          ]
        }
      ]
    },
    {
      "cell_type": "markdown",
      "metadata": {
        "id": "B-GONH_Q2ITd"
      },
      "source": [
        "Decision tree classifier has overfitted ."
      ]
    },
    {
      "cell_type": "code",
      "metadata": {
        "id": "Tx1_kh9v2NXV"
      },
      "source": [
        "train_score_dtc = round(accuracy_score(y_train, dtc.predict(X_train)) * 100, 2)\n",
        "test_score_dtc = round(accuracy_score(y_test, dtc.predict(X_test)) * 100, 2)"
      ],
      "execution_count": 57,
      "outputs": []
    },
    {
      "cell_type": "markdown",
      "metadata": {
        "id": "KzqYdzd92cnt"
      },
      "source": [
        "KNN classifier ."
      ]
    },
    {
      "cell_type": "code",
      "metadata": {
        "colab": {
          "base_uri": "https://localhost:8080/",
          "height": 282
        },
        "id": "bOVGiuER2cG8",
        "outputId": "c6200772-d157-4934-f792-42cefbbb15af"
      },
      "source": [
        "from sklearn.neighbors import KNeighborsClassifier\n",
        "\n",
        "accuracy_scores = []\n",
        "\n",
        "for i in range(1, 10):\n",
        "    knn = KNeighborsClassifier(n_neighbors = i)\n",
        "    knn.fit(X_train, y_train)\n",
        "    accuracy_scores.append(accuracy_score(y_test, knn.predict(X_test)))\n",
        "    \n",
        "plt.plot(accuracy_scores)"
      ],
      "execution_count": 58,
      "outputs": [
        {
          "output_type": "execute_result",
          "data": {
            "text/plain": [
              "[<matplotlib.lines.Line2D at 0x7f18aec7b1d0>]"
            ]
          },
          "metadata": {},
          "execution_count": 58
        },
        {
          "output_type": "display_data",
          "data": {
            "image/png": "[encoded data removed]",
            "text/plain": [
              "<Figure size 432x288 with 1 Axes>"
            ]
          },
          "metadata": {
            "needs_background": "light"
          }
        }
      ]
    },
    {
      "cell_type": "code",
      "metadata": {
        "colab": {
          "base_uri": "https://localhost:8080/"
        },
        "id": "rFqaWfAz2uXG",
        "outputId": "9efe666b-63f8-4acc-d7f4-fc09557d6861"
      },
      "source": [
        "knn = KNeighborsClassifier(n_neighbors = 9)\n",
        "knn.fit(X_train, y_train)\n",
        "\n",
        "evaluation(knn, X_train, y_train, X_test, y_test, True)\n",
        "evaluation(knn, X_train, y_train, X_test, y_test, False)"
      ],
      "execution_count": 59,
      "outputs": [
        {
          "output_type": "stream",
          "name": "stdout",
          "text": [
            "Train Result:\n",
            "================================================\n",
            "Accuracy Score: 81.25%\n",
            "_______________________________________________\n",
            "F1 Score: 0.72\n",
            "_______________________________________________\n",
            "CLASSIFICATION REPORT:\n",
            "                    0           1  accuracy   macro avg  weighted avg\n",
            "precision    0.841432    0.751351    0.8125    0.796392      0.809998\n",
            "recall       0.877333    0.691542    0.8125    0.784438      0.812500\n",
            "f1-score     0.859008    0.720207    0.8125    0.789608      0.810572\n",
            "support    375.000000  201.000000    0.8125  576.000000    576.000000\n",
            "_______________________________________________\n",
            "Confusion Matrix: \n",
            " [[329  46]\n",
            " [ 62 139]]\n",
            "\n",
            "Test Result:\n",
            "================================================\n",
            "Accuracy Score: 72.92%\n",
            "_______________________________________________\n",
            "F1 Score: 0.59\n",
            "_______________________________________________\n",
            "CLASSIFICATION REPORT:\n",
            "                    0          1  accuracy   macro avg  weighted avg\n",
            "precision    0.774436   0.627119  0.729167    0.700777      0.723028\n",
            "recall       0.824000   0.552239  0.729167    0.688119      0.729167\n",
            "f1-score     0.798450   0.587302  0.729167    0.692876      0.724768\n",
            "support    125.000000  67.000000  0.729167  192.000000    192.000000\n",
            "_______________________________________________\n",
            "Confusion Matrix: \n",
            " [[103  22]\n",
            " [ 30  37]]\n",
            "\n"
          ]
        }
      ]
    },
    {
      "cell_type": "code",
      "metadata": {
        "id": "EjMeO0t52rU9"
      },
      "source": [
        "train_score_knn = round(accuracy_score(y_train, knn.predict(X_train)) * 100, 2)\n",
        "test_score_knn = round(accuracy_score(y_test, knn.predict(X_test)) * 100, 2)"
      ],
      "execution_count": 60,
      "outputs": []
    },
    {
      "cell_type": "markdown",
      "metadata": {
        "id": "hYjQqSDl25NX"
      },
      "source": [
        "XG Boost Classifier ."
      ]
    },
    {
      "cell_type": "code",
      "metadata": {
        "colab": {
          "base_uri": "https://localhost:8080/"
        },
        "id": "IHKHMF7V27q-",
        "outputId": "e8d187e0-7c2d-4a86-8efb-4f6b062f2a69"
      },
      "source": [
        "from xgboost import XGBClassifier\n",
        "\n",
        "xgb = XGBClassifier(n_estimators = 500, learning_rate = 0.15)\n",
        "xgb.fit(X_train, y_train)\n",
        "\n",
        "evaluation(xgb, X_train, y_train, X_test, y_test, True)\n",
        "evaluation(xgb, X_train, y_train, X_test, y_test, False)"
      ],
      "execution_count": 61,
      "outputs": [
        {
          "output_type": "stream",
          "name": "stdout",
          "text": [
            "Train Result:\n",
            "================================================\n",
            "Accuracy Score: 100.00%\n",
            "_______________________________________________\n",
            "F1 Score: 1.0\n",
            "_______________________________________________\n",
            "CLASSIFICATION REPORT:\n",
            "               0      1  accuracy  macro avg  weighted avg\n",
            "precision    1.0    1.0       1.0        1.0           1.0\n",
            "recall       1.0    1.0       1.0        1.0           1.0\n",
            "f1-score     1.0    1.0       1.0        1.0           1.0\n",
            "support    375.0  201.0       1.0      576.0         576.0\n",
            "_______________________________________________\n",
            "Confusion Matrix: \n",
            " [[375   0]\n",
            " [  0 201]]\n",
            "\n",
            "Test Result:\n",
            "================================================\n",
            "Accuracy Score: 73.96%\n",
            "_______________________________________________\n",
            "F1 Score: 0.62\n",
            "_______________________________________________\n",
            "CLASSIFICATION REPORT:\n",
            "                    0          1  accuracy   macro avg  weighted avg\n",
            "precision    0.795276   0.630769  0.739583    0.713022      0.737870\n",
            "recall       0.808000   0.611940  0.739583    0.709970      0.739583\n",
            "f1-score     0.801587   0.621212  0.739583    0.711400      0.738644\n",
            "support    125.000000  67.000000  0.739583  192.000000    192.000000\n",
            "_______________________________________________\n",
            "Confusion Matrix: \n",
            " [[101  24]\n",
            " [ 26  41]]\n",
            "\n"
          ]
        }
      ]
    },
    {
      "cell_type": "code",
      "metadata": {
        "id": "c-dKBJKR29uX"
      },
      "source": [
        "train_score_xgb = round(accuracy_score(y_train, xgb.predict(X_train)) * 100, 2)\n",
        "test_score_xgb = round(accuracy_score(y_test, xgb.predict(X_test)) * 100, 2)"
      ],
      "execution_count": 62,
      "outputs": []
    },
    {
      "cell_type": "code",
      "metadata": {
        "colab": {
          "base_uri": "https://localhost:8080/",
          "height": 173
        },
        "id": "s1J8Q_bg3BqY",
        "outputId": "169863bb-9977-442d-b5ca-033ac98adc59"
      },
      "source": [
        "models = {\n",
        "           'Train Accuracy': [train_score_lr, train_score_dtc,  train_score_knn, train_score_xgb],\n",
        "          'Test Accuracy' : [test_score_lr, test_score_dtc,  test_score_knn, test_score_xgb]\n",
        "         }\n",
        "\n",
        "models = pd.DataFrame(models, index = ['Logistic Regression', 'Decision Tree Classifier',  'K-Nearest Neighbor', 'XGBoost'])\n",
        "models.head()"
      ],
      "execution_count": 64,
      "outputs": [
        {
          "output_type": "execute_result",
          "data": {
            "text/html": [
              "<div>\n",
              "<style scoped>\n",
              "    .dataframe tbody tr th:only-of-type {\n",
              "        vertical-align: middle;\n",
              "    }\n",
              "\n",
              "    .dataframe tbody tr th {\n",
              "        vertical-align: top;\n",
              "    }\n",
              "\n",
              "    .dataframe thead th {\n",
              "        text-align: right;\n",
              "    }\n",
              "</style>\n",
              "<table border=\"1\" class=\"dataframe\">\n",
              "  <thead>\n",
              "    <tr style=\"text-align: right;\">\n",
              "      <th></th>\n",
              "      <th>Train Accuracy</th>\n",
              "      <th>Test Accuracy</th>\n",
              "    </tr>\n",
              "  </thead>\n",
              "  <tbody>\n",
              "    <tr>\n",
              "      <th>Logistic Regression</th>\n",
              "      <td>78.99</td>\n",
              "      <td>72.40</td>\n",
              "    </tr>\n",
              "    <tr>\n",
              "      <th>Decision Tree Classifier</th>\n",
              "      <td>100.00</td>\n",
              "      <td>69.79</td>\n",
              "    </tr>\n",
              "    <tr>\n",
              "      <th>K-Nearest Neighbor</th>\n",
              "      <td>81.25</td>\n",
              "      <td>72.92</td>\n",
              "    </tr>\n",
              "    <tr>\n",
              "      <th>XGBoost</th>\n",
              "      <td>100.00</td>\n",
              "      <td>73.96</td>\n",
              "    </tr>\n",
              "  </tbody>\n",
              "</table>\n",
              "</div>"
            ],
            "text/plain": [
              "                          Train Accuracy  Test Accuracy\n",
              "Logistic Regression                78.99          72.40\n",
              "Decision Tree Classifier          100.00          69.79\n",
              "K-Nearest Neighbor                 81.25          72.92\n",
              "XGBoost                           100.00          73.96"
            ]
          },
          "metadata": {},
          "execution_count": 64
        }
      ]
    },
    {
      "cell_type": "code",
      "metadata": {
        "colab": {
          "base_uri": "https://localhost:8080/",
          "height": 536
        },
        "cellView": "form",
        "id": "KBRS9XRVzj2R",
        "outputId": "ec0b5f6c-2834-4ac3-8fff-1d6a5d71f5d4"
      },
      "source": [
        "#@title Cross validation.\n",
        "from sklearn.model_selection import cross_val_score, StratifiedKFold\n",
        "from sklearn.ensemble import AdaBoostClassifier\n",
        "\n",
        "kfold = StratifiedKFold(n_splits=10)\n",
        "\n",
        "random_state = 0\n",
        "classifiers = []\n",
        "classifiers.append(LogisticRegression(random_state = random_state))\n",
        "classifiers.append(DecisionTreeClassifier(random_state=random_state))\n",
        "classifiers.append(RandomForestClassifier(random_state=random_state, n_estimators = 500))\n",
        "classifiers.append(KNeighborsClassifier())\n",
        "classifiers.append(XGBClassifier(random_state=random_state))\n",
        "\n",
        "cv_results = []\n",
        "for classifier in classifiers :\n",
        "    cv_results.append(cross_val_score(classifier, X_train, y = y_train, scoring = \"accuracy\", cv = kfold, n_jobs=-1))\n",
        "\n",
        "cv_means = []\n",
        "cv_std = []\n",
        "for cv_result in cv_results:\n",
        "    cv_means.append(cv_result.mean())\n",
        "    cv_std.append(cv_result.std())\n",
        "\n",
        "cv_res = pd.DataFrame({\"CrossValMeans\":cv_means,\"CrossValerrors\": cv_std,\"Algorithm\":[\"Logistic Regression\",\"Decision Tree\",\n",
        "\"Random Forest\", \"KNeighboors\", \"XGBoosting\"]})\n",
        "\n",
        "g = sns.barplot(\"CrossValMeans\",\"Algorithm\",data = cv_res, palette=\"Set3\",orient = \"h\",**{'xerr':cv_std})\n",
        "g.set_xlabel(\"Mean Accuracy\")\n",
        "g = g.set_title(\"Cross validation scores\")\n",
        "\n",
        "cv_res.head()"
      ],
      "execution_count": 67,
      "outputs": [
        {
          "output_type": "stream",
          "name": "stderr",
          "text": [
            "/usr/local/lib/python3.7/dist-packages/seaborn/_decorators.py:43: FutureWarning: Pass the following variables as keyword args: x, y. From version 0.12, the only valid positional argument will be `data`, and passing other arguments without an explicit keyword will result in an error or misinterpretation.\n",
            "  FutureWarning\n"
          ]
        },
        {
          "output_type": "execute_result",
          "data": {
            "text/html": [
              "<div>\n",
              "<style scoped>\n",
              "    .dataframe tbody tr th:only-of-type {\n",
              "        vertical-align: middle;\n",
              "    }\n",
              "\n",
              "    .dataframe tbody tr th {\n",
              "        vertical-align: top;\n",
              "    }\n",
              "\n",
              "    .dataframe thead th {\n",
              "        text-align: right;\n",
              "    }\n",
              "</style>\n",
              "<table border=\"1\" class=\"dataframe\">\n",
              "  <thead>\n",
              "    <tr style=\"text-align: right;\">\n",
              "      <th></th>\n",
              "      <th>CrossValMeans</th>\n",
              "      <th>CrossValerrors</th>\n",
              "      <th>Algorithm</th>\n",
              "    </tr>\n",
              "  </thead>\n",
              "  <tbody>\n",
              "    <tr>\n",
              "      <th>0</th>\n",
              "      <td>0.783091</td>\n",
              "      <td>0.035100</td>\n",
              "      <td>Logistic Regression</td>\n",
              "    </tr>\n",
              "    <tr>\n",
              "      <th>1</th>\n",
              "      <td>0.701270</td>\n",
              "      <td>0.046378</td>\n",
              "      <td>Decision Tree</td>\n",
              "    </tr>\n",
              "    <tr>\n",
              "      <th>2</th>\n",
              "      <td>0.750121</td>\n",
              "      <td>0.048499</td>\n",
              "      <td>Random Forest</td>\n",
              "    </tr>\n",
              "    <tr>\n",
              "      <th>3</th>\n",
              "      <td>0.757139</td>\n",
              "      <td>0.053968</td>\n",
              "      <td>KNeighboors</td>\n",
              "    </tr>\n",
              "    <tr>\n",
              "      <th>4</th>\n",
              "      <td>0.772626</td>\n",
              "      <td>0.052496</td>\n",
              "      <td>XGBoosting</td>\n",
              "    </tr>\n",
              "  </tbody>\n",
              "</table>\n",
              "</div>"
            ],
            "text/plain": [
              "   CrossValMeans  CrossValerrors            Algorithm\n",
              "0       0.783091        0.035100  Logistic Regression\n",
              "1       0.701270        0.046378        Decision Tree\n",
              "2       0.750121        0.048499        Random Forest\n",
              "3       0.757139        0.053968          KNeighboors\n",
              "4       0.772626        0.052496           XGBoosting"
            ]
          },
          "metadata": {},
          "execution_count": 67
        },
        {
          "output_type": "display_data",
          "data": {
            "image/png": "[encoded data removed]",
            "text/plain": [
              "<Figure size 432x288 with 1 Axes>"
            ]
          },
          "metadata": {
            "needs_background": "light"
          }
        }
      ]
    },
    {
      "cell_type": "markdown",
      "metadata": {
        "id": "Lj4-sdWP4F9G"
      },
      "source": [
        "From the above table, we can observe that we get the best results for Logistic Regression Algorithm, the accuracy in the case is 78.3%. The Results for Random Forest and KNeighbors Classifer is also not bad. Let's try out Hyperparameter Tuning using GridSearchCv for XGBoost Classifier"
      ]
    },
    {
      "cell_type": "markdown",
      "metadata": {
        "id": "05skNMEq4NEE"
      },
      "source": [
        "**Hyperparameter Tuning**"
      ]
    },
    {
      "cell_type": "code",
      "metadata": {
        "colab": {
          "base_uri": "https://localhost:8080/"
        },
        "cellView": "form",
        "id": "6SEzobLg3w40",
        "outputId": "e61f0e0b-a4fe-455f-c0fb-02ee288c25f1"
      },
      "source": [
        "#@title XGBoosting Classifier tunning\n",
        "from sklearn.model_selection import GridSearchCV\n",
        "\n",
        "XGB = XGBClassifier(verbosity = 0)\n",
        "gb_param_grid = {'loss' : [\"deviance\"],\n",
        "              'n_estimators' : [100,200,300],\n",
        "              'learning_rate': [0.1, 0.05, 0.01],\n",
        "              'max_depth': [4, 8],\n",
        "              'min_samples_leaf': [100,150],\n",
        "              'max_features': [0.3, 0.1] \n",
        "              }\n",
        "\n",
        "gsXGB = GridSearchCV(XGB, param_grid = gb_param_grid, cv=kfold, scoring=\"accuracy\")\n",
        "\n",
        "gsXGB.fit(X_train,y_train)\n",
        "\n",
        "XGB_best = gsXGB.best_estimator_\n",
        "# Best score\n",
        "gsXGB.best_score_"
      ],
      "execution_count": 71,
      "outputs": [
        {
          "output_type": "execute_result",
          "data": {
            "text/plain": [
              "0.7760738052026619"
            ]
          },
          "metadata": {},
          "execution_count": 71
        }
      ]
    },
    {
      "cell_type": "markdown",
      "metadata": {
        "id": "QoxqXLTH47EH"
      },
      "source": [
        "here are the parameters"
      ]
    },
    {
      "cell_type": "code",
      "metadata": {
        "colab": {
          "base_uri": "https://localhost:8080/"
        },
        "id": "6ytHYCGn4X3_",
        "outputId": "3105dff7-6323-4055-c10c-bef94bf47b95"
      },
      "source": [
        "print(XGB_best)"
      ],
      "execution_count": 70,
      "outputs": [
        {
          "output_type": "stream",
          "name": "stdout",
          "text": [
            "XGBClassifier(base_score=0.5, booster='gbtree', colsample_bylevel=1,\n",
            "              colsample_bynode=1, colsample_bytree=1, gamma=0,\n",
            "              learning_rate=0.05, loss='deviance', max_delta_step=0,\n",
            "              max_depth=4, max_features=0.3, min_child_weight=1,\n",
            "              min_samples_leaf=100, missing=None, n_estimators=300, n_jobs=1,\n",
            "              nthread=None, objective='binary:logistic', random_state=0,\n",
            "              reg_alpha=0, reg_lambda=1, scale_pos_weight=1, seed=None,\n",
            "              silent=None, subsample=1, verbosity=0)\n"
          ]
        }
      ]
    },
    {
      "cell_type": "code",
      "metadata": {
        "id": "lNdzIgBh4-fp"
      },
      "source": [
        ""
      ],
      "execution_count": null,
      "outputs": []
    }
  ]
}